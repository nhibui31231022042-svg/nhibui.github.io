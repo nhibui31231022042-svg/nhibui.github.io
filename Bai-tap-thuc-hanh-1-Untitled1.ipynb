{
  "nbformat": 4,
  "nbformat_minor": 0,
  "metadata": {
    "colab": {
      "provenance": [],
      "authorship_tag": "ABX9TyMY9NvxzurcsTfaa8/8vnxQ",
      "include_colab_link": true
    },
    "kernelspec": {
      "name": "python3",
      "display_name": "Python 3"
    },
    "language_info": {
      "name": "python"
    }
  },
  "cells": [
    {
      "cell_type": "markdown",
      "metadata": {
        "id": "view-in-github",
        "colab_type": "text"
      },
      "source": [
        "<a href=\"https://colab.research.google.com/github/nhibui31231022042-svg/nhibui.github.io/blob/main/Bai-tap-thuc-hanh-1-Untitled1.ipynb\" target=\"_parent\"><img src=\"https://colab.research.google.com/assets/colab-badge.svg\" alt=\"Open In Colab\"/></a>"
      ]
    },
    {
      "cell_type": "markdown",
      "source": [],
      "metadata": {
        "id": "yxKnhhNwkSrM"
      }
    },
    {
      "cell_type": "markdown",
      "source": [
        "BAI TAP MAU"
      ],
      "metadata": {
        "id": "802DYp4ZkT_m"
      }
    },
    {
      "cell_type": "code",
      "source": [
        "print(\"Whoever is happy will make others happy too\");\n",
        "print(\"--Anne Frank\");"
      ],
      "metadata": {
        "colab": {
          "base_uri": "https://localhost:8080/"
        },
        "id": "w3O2FHAUkc5p",
        "outputId": "1d02aa96-31c8-448d-8679-a66242ed528f"
      },
      "execution_count": 1,
      "outputs": [
        {
          "output_type": "stream",
          "name": "stdout",
          "text": [
            "Whoever is happy will make others happy too\n",
            "--Anne Frank\n"
          ]
        }
      ]
    },
    {
      "cell_type": "code",
      "source": [
        "# Nhập dữ liệu\n",
        "a = int(input(\"Moi ban nhap so a: \"))\n",
        "b = int(input(\"Moi ban nhap so b: \"))\n",
        "# Xử lý\n",
        "kqCong = a + b\n",
        "kqTru = a - b\n",
        "kqNhan = a * b\n",
        "kqChiaNguyen = a // b\n",
        "kqDu= a % b\n",
        "kqChiaThuc = a / b\n",
        "# Xuất dữ liệu\n",
        "print(\"Cac ket qua tinh toan: \")\n",
        "print(\"%-5d + %5d = %5d\"%(a, b, kqCong))\n",
        "print(\"%-5d - %5d = %5d\"%(a, b, kqTru))\n",
        "print(\"%-5d * %5d = %5d\"%(a, b, kqNhan))\n",
        "print(\"%-5d / %5d = %5d\"%(a, b, kqChiaNguyen))\n",
        "print(\"%-5d / %5d = %5d\"%(a, b, kqDu))\n",
        "print(\"%-5d / %5d = %5.2f\"%(a, b, kqChiaThuc))"
      ],
      "metadata": {
        "colab": {
          "base_uri": "https://localhost:8080/"
        },
        "id": "i2MkJCngklns",
        "outputId": "3daa0042-ff33-436f-90e4-17a7d6c40017"
      },
      "execution_count": 2,
      "outputs": [
        {
          "output_type": "stream",
          "name": "stdout",
          "text": [
            "Moi ban nhap so a: 5\n",
            "Moi ban nhap so b: 6\n",
            "Cac ket qua tinh toan: \n",
            "5     +     6 =    11\n",
            "5     -     6 =    -1\n",
            "5     *     6 =    30\n",
            "5     /     6 =     0\n",
            "5     /     6 =     5\n",
            "5     /     6 =  0.83\n"
          ]
        }
      ]
    },
    {
      "cell_type": "code",
      "source": [
        "a=float(input(\"Moi ban nhap so a:\"))\n",
        "b=float(input(\"Moi ban nhap so b:\"))\n",
        "\n",
        "LaNhoHon=(a<b)\n",
        "LaNhoHonBang=(a<=b)\n",
        "LaLonHon=(a>b)\n",
        "LaLonHonBang=(a>=b)\n",
        "LaBang=(a==b)\n",
        "LaKhacNhau=(a!=b)\n",
        "\n",
        "print(\"Ket qua so sanh hai so thuc %.2f va %.2f:\"%(a,b))\n",
        "print(\"%-8.2f < %8.2f: %8s\"%(a, b, LaNhoHon))\n",
        "print(\"%-8.2f <= %8.2f: %8s\"%(a, b, LaNhoHonBang))\n",
        "print(\"%-8.2f > %8.2f: %8s\"%(a, b, LaLonHon))\n",
        "print(\"%-8.2f >= %8.2f: %8s\"%(a, b, LaLonHonBang))\n",
        "print(\"%-8.2f == %8.2f: %8s\"%(a, b, LaBang))\n",
        "print(\"%-8.2f != %8.2f: %8s\"%(a, b, LaKhacNhau))"
      ],
      "metadata": {
        "colab": {
          "base_uri": "https://localhost:8080/"
        },
        "id": "GpkHEo0TkycW",
        "outputId": "7d2d8805-75fc-4719-f2e4-6edf293a4a47"
      },
      "execution_count": 6,
      "outputs": [
        {
          "output_type": "stream",
          "name": "stdout",
          "text": [
            "Moi ban nhap so a:2.5\n",
            "Moi ban nhap so b:6.8\n",
            "Ket qua so sanh hai so thuc 2.50 va 6.80:\n",
            "2.50     <     6.80:     True\n",
            "2.50     <=     6.80:     True\n",
            "2.50     >     6.80:    False\n",
            "2.50     >=     6.80:    False\n",
            "2.50     ==     6.80:    False\n",
            "2.50     !=     6.80:     True\n"
          ]
        }
      ]
    },
    {
      "cell_type": "code",
      "source": [
        "import math\n",
        "\n",
        "x=float(input(\"Moi ban nhap vao gia tri cua bien so x:\"))\n",
        "\n",
        "fx= x+math.pow(x,5)/(1*2*3*4*5)+ \\\n",
        " math.sqrt(abs(x))/math.pow(x,3.0/2)\n",
        "\n",
        "print(\"Gia tri cua ham so f(%.2f)=%2f.\"%(x,fx))"
      ],
      "metadata": {
        "colab": {
          "base_uri": "https://localhost:8080/"
        },
        "id": "u19J_Wb9qD5-",
        "outputId": "841400a0-3b37-4121-b020-a6a0f962a2b8"
      },
      "execution_count": 10,
      "outputs": [
        {
          "output_type": "stream",
          "name": "stdout",
          "text": [
            "Moi ban nhap vao gia tri cua bien so x:2.3\n",
            "Gia tri cua ham so f(2.30)=3.271145.\n"
          ]
        }
      ]
    },
    {
      "cell_type": "markdown",
      "source": [
        "BAI TAP THUC HANH"
      ],
      "metadata": {
        "id": "zntEKjuUvDoy"
      }
    },
    {
      "cell_type": "code",
      "source": [
        "print(\"******************************\")\n",
        "print(\"* Truong: Dai Hoc UEH        *\")\n",
        "print(\"* Khoa: CNTT                 *\")\n",
        "print(\"* Ho ten:                    *\")\n",
        "print(\"******************************\")"
      ],
      "metadata": {
        "colab": {
          "base_uri": "https://localhost:8080/"
        },
        "id": "QXZsD25YtAwq",
        "outputId": "7e1ba59a-5632-483b-ed73-3612558dddb6"
      },
      "execution_count": 11,
      "outputs": [
        {
          "output_type": "stream",
          "name": "stdout",
          "text": [
            "******************************\n",
            "* Truong: Dai Hoc UEH        *\n",
            "* Khoa: CNTT                 *\n",
            "* Ho ten:                    *\n",
            "******************************\n"
          ]
        }
      ]
    },
    {
      "cell_type": "code",
      "source": [
        "import math\n",
        "a= float(input(\"Moi ban nhap ban kinh R:\"))\n",
        "S= 3.14*a**2\n",
        "P= 2*3.14*a\n",
        "\n",
        "print(\"Dien tich S= %.1f\"%S)\n",
        "print(\"Chu vi P=%.1f\"%P)"
      ],
      "metadata": {
        "colab": {
          "base_uri": "https://localhost:8080/"
        },
        "id": "3ifR9JM2vGnG",
        "outputId": "8ba0b53c-31b8-4cc1-e4f7-e40bb3d82da1"
      },
      "execution_count": 15,
      "outputs": [
        {
          "output_type": "stream",
          "name": "stdout",
          "text": [
            "Moi ban nhap ban kinh R:5\n",
            "Dien tich S= 78.5\n",
            "Chu vi P=31.4\n"
          ]
        }
      ]
    },
    {
      "cell_type": "code",
      "source": [
        "a= int(input(\"Nhap so gio:\"))\n",
        "b= int(input(\"Nhap so phut\"))\n",
        "c= int(input(\"Nhap so giay\"))\n",
        "\n",
        "Tong= a*60*60+b*60+c\n",
        "\n",
        "print(f\"Tong so giay cua {a}:{b}:{c} la {Tong} giay\")"
      ],
      "metadata": {
        "colab": {
          "base_uri": "https://localhost:8080/"
        },
        "id": "H3HfksMsxPi_",
        "outputId": "2f43820d-867f-4ff4-d37d-c6d270ce528f"
      },
      "execution_count": 17,
      "outputs": [
        {
          "output_type": "stream",
          "name": "stdout",
          "text": [
            "Nhap so gio:1\n",
            "Nhap so phut20\n",
            "Nhap so giay10\n",
            "Tong so giay cua 1:20:10 la 4810 giay\n"
          ]
        }
      ]
    },
    {
      "cell_type": "code",
      "source": [
        "s= int(input(\"Nhap vao tong so giay:\"))\n",
        "\n",
        "h =s//3600\n",
        "m =(s%3600)//60\n",
        "a =s%60\n",
        "\n",
        "print(f\"{s} giay co dang {h}:{m}:{a}\")\n"
      ],
      "metadata": {
        "colab": {
          "base_uri": "https://localhost:8080/"
        },
        "id": "v3f7cZcByjZC",
        "outputId": "014791c3-bfbe-45e0-e552-f9f054f48b5d"
      },
      "execution_count": 18,
      "outputs": [
        {
          "output_type": "stream",
          "name": "stdout",
          "text": [
            "Nhap vao tong so giay:4810\n",
            "4810 giay co dang 1:20:10\n"
          ]
        }
      ]
    },
    {
      "cell_type": "code",
      "source": [
        "import math\n",
        "\n",
        "a= float(input(\"Nhap do dai canh a:\"))\n",
        "b= float(input(\"Nhap do dai canh b:\"))\n",
        "c= float(input(\"Nhap do dai canh c:\"))\n",
        "\n",
        "p= (a+b+c)/2\n",
        "S=math.sqrt(p*(p-a)*(p-b)*(p-c))\n",
        "\n",
        "print(f\"Dien tich tam giac S= {S:.2f}\")"
      ],
      "metadata": {
        "colab": {
          "base_uri": "https://localhost:8080/"
        },
        "id": "YichOyT10DJQ",
        "outputId": "1c4bfa58-8e55-4a7e-997d-83f47ae5b1ef"
      },
      "execution_count": 19,
      "outputs": [
        {
          "output_type": "stream",
          "name": "stdout",
          "text": [
            "Nhap do dai canh a:2\n",
            "Nhap do dai canh b:4\n",
            "Nhap do dai canh c:3\n",
            "Dien tich tam giac S= 2.90\n"
          ]
        }
      ]
    },
    {
      "cell_type": "code",
      "source": [
        "import math\n",
        "\n",
        "a=float(input(\"Nhap so thuc a:\"))\n",
        "n=float(input(\"Nhap so mu n:\"))\n",
        "\n",
        "Ket_qua=a**n\n",
        "\n",
        "print(f\"Ket qua {a}^{n}= {Ket_qua}\")"
      ],
      "metadata": {
        "colab": {
          "base_uri": "https://localhost:8080/"
        },
        "id": "E9kl9YTC1pSn",
        "outputId": "8db63a41-24a6-4108-c4bf-d8caf1096bde"
      },
      "execution_count": 23,
      "outputs": [
        {
          "output_type": "stream",
          "name": "stdout",
          "text": [
            "Nhap so thuc a:2\n",
            "Nhap so mu n:4\n",
            "Ket qua 2.0^4.0= 16.0\n"
          ]
        }
      ]
    },
    {
      "cell_type": "code",
      "source": [
        "x=int(input(\"Nhap so nguyen x:\"))\n",
        "\n",
        "y=int(str(x)[::-1])\n",
        "\n",
        "print(f\"x={x}->y={y}\")"
      ],
      "metadata": {
        "colab": {
          "base_uri": "https://localhost:8080/"
        },
        "id": "zT8Qr4UM2ySn",
        "outputId": "af2d9a44-e9d3-4525-dd32-eb8f133df5f3"
      },
      "execution_count": 24,
      "outputs": [
        {
          "output_type": "stream",
          "name": "stdout",
          "text": [
            "Nhap so nguyen x:1234\n",
            "x=1234->y=4321\n"
          ]
        }
      ]
    },
    {
      "cell_type": "code",
      "source": [
        "import math\n",
        "\n",
        "goc_do= float(input(\" Nhap goc do:\"))\n",
        "\n",
        "radian = math.radians(goc_do)\n",
        "\n",
        "print(f\"{goc_do} do={radian:.2f} radian\")"
      ],
      "metadata": {
        "colab": {
          "base_uri": "https://localhost:8080/"
        },
        "id": "6jhD24nZ6Pgx",
        "outputId": "a1ba5899-9b5f-4812-a03b-ac9a74b0aeed"
      },
      "execution_count": 29,
      "outputs": [
        {
          "output_type": "stream",
          "name": "stdout",
          "text": [
            " Nhap goc do:90\n",
            "90.0 do=1.57 radian\n"
          ]
        }
      ]
    },
    {
      "cell_type": "code",
      "source": [
        "import math\n",
        "\n",
        "x=float(input(\"Nhap vao so thuc x:\"))\n",
        "\n",
        "y1= 4*(x**2+10*x*math.sqrt(x)+3*x+1)\n",
        "y2= (math.sin(math.pi*x**2)+math.sqrt(x**2+1)) / (math.exp(2*x)+math.cos(math.pi/4*x))\n",
        "\n",
        "print(f\"y1={y1:.2f}\")\n",
        "print(f\"y2={y2:.2f}\")"
      ],
      "metadata": {
        "colab": {
          "base_uri": "https://localhost:8080/"
        },
        "id": "chwRctobCHR_",
        "outputId": "60b52695-d950-435e-ed57-6284ec1c0851"
      },
      "execution_count": 31,
      "outputs": [
        {
          "output_type": "stream",
          "name": "stdout",
          "text": [
            "Nhap vao so thuc x:3\n",
            "y1=283.85\n",
            "y2=0.01\n"
          ]
        }
      ]
    },
    {
      "cell_type": "code",
      "source": [
        "import math\n",
        "x1= float(input(\"Nhap x1:\"))\n",
        "y1= float(input(\"Nhap y1:\"))\n",
        "\n",
        "x2= float(input(\"Nhap x2:\"))\n",
        "y2= float(input(\"Nhap y2:\"))\n",
        "\n",
        "d= math.sqrt((x2-x1)**2+(y2-y1)**2)\n",
        "\n",
        "print(f\"Khoang cach giua hai diem A B la {d:.2f}\")\n"
      ],
      "metadata": {
        "colab": {
          "base_uri": "https://localhost:8080/"
        },
        "id": "DFQ9rOn1Dqdb",
        "outputId": "f1bd3d33-df7b-48ee-c7f7-6768c9c504d1"
      },
      "execution_count": 33,
      "outputs": [
        {
          "output_type": "stream",
          "name": "stdout",
          "text": [
            "Nhap x1:1\n",
            "Nhap y1:1\n",
            "Nhap x2:5\n",
            "Nhap y2:9\n",
            "Khoang cach giua hai diem A B la 8.94\n"
          ]
        }
      ]
    },
    {
      "cell_type": "markdown",
      "source": [
        "**CAU TRUC DIEU KIEN**"
      ],
      "metadata": {
        "id": "zibNVjjxFOH2"
      }
    },
    {
      "cell_type": "code",
      "source": [
        "a= int(input())\n",
        "b= int(input())\n",
        "c= int(input())\n",
        "\n",
        "def max_fn(a,b):\n",
        "  return a if a>b else b\n",
        "\n",
        "vmax = max_fn(a,b)\n",
        "vmax = max_fn(vmax,c)\n",
        "\n",
        "print(\"Max(%d,%d,%d)=%d\"%(a,b,c,vmax))"
      ],
      "metadata": {
        "colab": {
          "base_uri": "https://localhost:8080/"
        },
        "id": "qqPYW_xqFWhD",
        "outputId": "62159023-8d04-459a-c196-bc6e0ec6ca34"
      },
      "execution_count": 34,
      "outputs": [
        {
          "output_type": "stream",
          "name": "stdout",
          "text": [
            "3\n",
            "2\n",
            "8\n",
            "Max(3,2,8)=8\n"
          ]
        }
      ]
    },
    {
      "cell_type": "code",
      "source": [
        "a= int(input())\n",
        "b= int(input())\n",
        "c= int(input())\n",
        "\n",
        "numbers = [a,b,c]\n",
        "sorted_numbers= sorted(numbers)\n",
        "\n",
        "print(f\"Thu tu tang dan: {sorted_numbers}\")"
      ],
      "metadata": {
        "colab": {
          "base_uri": "https://localhost:8080/"
        },
        "id": "GCw09HEyJYo0",
        "outputId": "6632e70c-a4b9-412b-e357-9e68fa043380"
      },
      "execution_count": 35,
      "outputs": [
        {
          "output_type": "stream",
          "name": "stdout",
          "text": [
            "5\n",
            "8\n",
            "2\n",
            "Thu tu tang dan: [2, 5, 8]\n"
          ]
        }
      ]
    },
    {
      "cell_type": "code",
      "source": [
        "a= int(input())\n",
        "b= int(input())\n",
        "c= int(input())\n",
        "\n",
        "numbers = [a,b,c]\n",
        "sorted_numbers= sorted(numbers, reverse=True)\n",
        "\n",
        "print(f\"Thu tu tang dan: {sorted_numbers}\")"
      ],
      "metadata": {
        "colab": {
          "base_uri": "https://localhost:8080/"
        },
        "id": "2uLV114ZKhf_",
        "outputId": "c7b2b9db-9f4c-4322-e467-f2248685aa87"
      },
      "execution_count": 36,
      "outputs": [
        {
          "output_type": "stream",
          "name": "stdout",
          "text": [
            "5\n",
            "7\n",
            "9\n",
            "Thu tu tang dan: [9, 7, 5]\n"
          ]
        }
      ]
    },
    {
      "cell_type": "code",
      "source": [
        "a= float(input())\n",
        "b= float(input())\n",
        "\n",
        "if a==0:\n",
        "  if b==0:\n",
        "   print(\"Phuong trinh co vo so nghiem\")\n",
        "  else:\n",
        "   print (\"Phuong trinh vo nghiem\")\n",
        "else:\n",
        "  x=-b/a\n",
        "  print(f\"Nghiem cua phuong trinh la x={x}\")\n"
      ],
      "metadata": {
        "colab": {
          "base_uri": "https://localhost:8080/"
        },
        "id": "l81tyaPdKoSs",
        "outputId": "766e936f-771f-4a82-fab4-6445764dede2"
      },
      "execution_count": 39,
      "outputs": [
        {
          "output_type": "stream",
          "name": "stdout",
          "text": [
            "5\n",
            "8\n",
            "Nghiem cua phuong trinh la x=-1.6\n"
          ]
        }
      ]
    },
    {
      "cell_type": "code",
      "source": [
        "y = int(input())\n",
        "\n",
        "if (y%400==0) or (y%4==0 and y%400 !=0):\n",
        "  print(f\"Nam {y} co 366 ngay\")\n",
        "else:\n",
        "  print(f\"Nam {y} co 365 ngay\")"
      ],
      "metadata": {
        "colab": {
          "base_uri": "https://localhost:8080/"
        },
        "id": "aqNOKpvNMJbx",
        "outputId": "a3a2928f-540b-442f-a956-b2446de84af2"
      },
      "execution_count": 40,
      "outputs": [
        {
          "output_type": "stream",
          "name": "stdout",
          "text": [
            "3008\n",
            "Nam 3008 co 366 ngay\n"
          ]
        }
      ]
    },
    {
      "cell_type": "code",
      "source": [
        "# Input\n",
        "y = int(input())\n",
        "# Process\n",
        "def isleap(y):\n",
        "  ans = False\n",
        "  if y%400==0 or (y%4==0 and y%100 !=0):\n",
        "    ans = True\n",
        "    return ans\n",
        "    pass # IsLeap\n",
        "def daysyear(y):\n",
        "  ans = 365\n",
        "  if isleap(y):\n",
        "    ans = 366\n",
        "  return ans\n",
        "  pass # daysyear\n",
        "ans = daysyear(y)\n",
        "# output\n",
        "print(\"%d\"%(ans))"
      ],
      "metadata": {
        "colab": {
          "base_uri": "https://localhost:8080/"
        },
        "id": "OUL6C7SmNRAQ",
        "outputId": "92c8fe0c-02a9-457a-cd51-7014598aeb3f"
      },
      "execution_count": 47,
      "outputs": [
        {
          "output_type": "stream",
          "name": "stdout",
          "text": [
            "3008\n",
            "366\n"
          ]
        }
      ]
    },
    {
      "cell_type": "code",
      "source": [
        "a= float(input())\n",
        "b= float(input())\n",
        "\n",
        "y=a+b\n",
        "\n",
        "print(f\"{a}+{b}={y}\")"
      ],
      "metadata": {
        "colab": {
          "base_uri": "https://localhost:8080/"
        },
        "id": "PUAyqRCAN_Tx",
        "outputId": "691d4464-0976-47a4-f132-f196bc5b86b0"
      },
      "execution_count": 49,
      "outputs": [
        {
          "output_type": "stream",
          "name": "stdout",
          "text": [
            "7\n",
            "8\n",
            "7.0+8.0=15.0\n"
          ]
        }
      ]
    },
    {
      "cell_type": "code",
      "source": [],
      "metadata": {
        "id": "fQs52VokPFdq"
      },
      "execution_count": null,
      "outputs": []
    }
  ]
}