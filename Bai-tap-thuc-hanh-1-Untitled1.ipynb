{
  "nbformat": 4,
  "nbformat_minor": 0,
  "metadata": {
    "colab": {
      "provenance": [],
      "authorship_tag": "ABX9TyMwDQu4fkkPhzeJvASXXJnh",
      "include_colab_link": true
    },
    "kernelspec": {
      "name": "python3",
      "display_name": "Python 3"
    },
    "language_info": {
      "name": "python"
    }
  },
  "cells": [
    {
      "cell_type": "markdown",
      "metadata": {
        "id": "view-in-github",
        "colab_type": "text"
      },
      "source": [
        "<a href=\"https://colab.research.google.com/github/nhibui31231022042-svg/nhibui.github.io/blob/main/Bai-tap-thuc-hanh-1-Untitled1.ipynb\" target=\"_parent\"><img src=\"https://colab.research.google.com/assets/colab-badge.svg\" alt=\"Open In Colab\"/></a>"
      ]
    },
    {
      "cell_type": "markdown",
      "source": [],
      "metadata": {
        "id": "yxKnhhNwkSrM"
      }
    },
    {
      "cell_type": "markdown",
      "source": [
        "BAI TAP MAU"
      ],
      "metadata": {
        "id": "802DYp4ZkT_m"
      }
    },
    {
      "cell_type": "code",
      "source": [
        "print(\"Whoever is happy will make others happy too\");\n",
        "print(\"--Anne Frank\");"
      ],
      "metadata": {
        "colab": {
          "base_uri": "https://localhost:8080/"
        },
        "id": "w3O2FHAUkc5p",
        "outputId": "1d02aa96-31c8-448d-8679-a66242ed528f"
      },
      "execution_count": 1,
      "outputs": [
        {
          "output_type": "stream",
          "name": "stdout",
          "text": [
            "Whoever is happy will make others happy too\n",
            "--Anne Frank\n"
          ]
        }
      ]
    },
    {
      "cell_type": "code",
      "source": [
        "# Nhập dữ liệu\n",
        "a = int(input(\"Moi ban nhap so a: \"))\n",
        "b = int(input(\"Moi ban nhap so b: \"))\n",
        "# Xử lý\n",
        "kqCong = a + b\n",
        "kqTru = a - b\n",
        "kqNhan = a * b\n",
        "kqChiaNguyen = a // b\n",
        "kqDu= a % b\n",
        "kqChiaThuc = a / b\n",
        "# Xuất dữ liệu\n",
        "print(\"Cac ket qua tinh toan: \")\n",
        "print(\"%-5d + %5d = %5d\"%(a, b, kqCong))\n",
        "print(\"%-5d - %5d = %5d\"%(a, b, kqTru))\n",
        "print(\"%-5d * %5d = %5d\"%(a, b, kqNhan))\n",
        "print(\"%-5d / %5d = %5d\"%(a, b, kqChiaNguyen))\n",
        "print(\"%-5d / %5d = %5d\"%(a, b, kqDu))\n",
        "print(\"%-5d / %5d = %5.2f\"%(a, b, kqChiaThuc))"
      ],
      "metadata": {
        "colab": {
          "base_uri": "https://localhost:8080/"
        },
        "id": "i2MkJCngklns",
        "outputId": "3daa0042-ff33-436f-90e4-17a7d6c40017"
      },
      "execution_count": 2,
      "outputs": [
        {
          "output_type": "stream",
          "name": "stdout",
          "text": [
            "Moi ban nhap so a: 5\n",
            "Moi ban nhap so b: 6\n",
            "Cac ket qua tinh toan: \n",
            "5     +     6 =    11\n",
            "5     -     6 =    -1\n",
            "5     *     6 =    30\n",
            "5     /     6 =     0\n",
            "5     /     6 =     5\n",
            "5     /     6 =  0.83\n"
          ]
        }
      ]
    },
    {
      "cell_type": "code",
      "source": [
        "a=float(input(\"Moi ban nhap so a:\"))\n",
        "b=float(input(\"Moi ban nhap so b:\"))\n",
        "\n",
        "LaNhoHon=(a<b)\n",
        "LaNhoHonBang=(a<=b)\n",
        "LaLonHon=(a>b)\n",
        "LaLonHonBang=(a>=b)\n",
        "LaBang=(a==b)\n",
        "LaKhacNhau=(a!=b)\n",
        "\n",
        "print(\"Ket qua so sanh hai so thuc %.2f va %.2f:\"%(a,b))\n",
        "print(\"%-8.2f < %8.2f: %8s\"%(a, b, LaNhoHon))\n",
        "print(\"%-8.2f <= %8.2f: %8s\"%(a, b, LaNhoHonBang))\n",
        "print(\"%-8.2f > %8.2f: %8s\"%(a, b, LaLonHon))\n",
        "print(\"%-8.2f >= %8.2f: %8s\"%(a, b, LaLonHonBang))\n",
        "print(\"%-8.2f == %8.2f: %8s\"%(a, b, LaBang))\n",
        "print(\"%-8.2f != %8.2f: %8s\"%(a, b, LaKhacNhau))"
      ],
      "metadata": {
        "colab": {
          "base_uri": "https://localhost:8080/"
        },
        "id": "GpkHEo0TkycW",
        "outputId": "7d2d8805-75fc-4719-f2e4-6edf293a4a47"
      },
      "execution_count": 6,
      "outputs": [
        {
          "output_type": "stream",
          "name": "stdout",
          "text": [
            "Moi ban nhap so a:2.5\n",
            "Moi ban nhap so b:6.8\n",
            "Ket qua so sanh hai so thuc 2.50 va 6.80:\n",
            "2.50     <     6.80:     True\n",
            "2.50     <=     6.80:     True\n",
            "2.50     >     6.80:    False\n",
            "2.50     >=     6.80:    False\n",
            "2.50     ==     6.80:    False\n",
            "2.50     !=     6.80:     True\n"
          ]
        }
      ]
    },
    {
      "cell_type": "code",
      "source": [
        "import math\n",
        "\n",
        "x=float(input(\"Moi ban nhap vao gia tri cua bien so x:\"))\n",
        "\n",
        "fx= x+math.pow(x,5)/(1*2*3*4*5)+ \\\n",
        " math.sqrt(abs(x))/math.pow(x,3.0/2)\n",
        "\n",
        "print(\"Gia tri cua ham so f(%.2f)=%2f.\"%(x,fx))"
      ],
      "metadata": {
        "colab": {
          "base_uri": "https://localhost:8080/"
        },
        "id": "u19J_Wb9qD5-",
        "outputId": "841400a0-3b37-4121-b020-a6a0f962a2b8"
      },
      "execution_count": 10,
      "outputs": [
        {
          "output_type": "stream",
          "name": "stdout",
          "text": [
            "Moi ban nhap vao gia tri cua bien so x:2.3\n",
            "Gia tri cua ham so f(2.30)=3.271145.\n"
          ]
        }
      ]
    },
    {
      "cell_type": "markdown",
      "source": [
        "BAI TAP THUC HANH"
      ],
      "metadata": {
        "id": "zntEKjuUvDoy"
      }
    },
    {
      "cell_type": "code",
      "source": [
        "print(\"******************************\")\n",
        "print(\"* Truong: Dai Hoc UEH        *\")\n",
        "print(\"* Khoa: CNTT                 *\")\n",
        "print(\"* Ho ten:                    *\")\n",
        "print(\"******************************\")"
      ],
      "metadata": {
        "colab": {
          "base_uri": "https://localhost:8080/"
        },
        "id": "QXZsD25YtAwq",
        "outputId": "7e1ba59a-5632-483b-ed73-3612558dddb6"
      },
      "execution_count": 11,
      "outputs": [
        {
          "output_type": "stream",
          "name": "stdout",
          "text": [
            "******************************\n",
            "* Truong: Dai Hoc UEH        *\n",
            "* Khoa: CNTT                 *\n",
            "* Ho ten:                    *\n",
            "******************************\n"
          ]
        }
      ]
    },
    {
      "cell_type": "code",
      "source": [
        "import math\n",
        "a= float(input(\"Moi ban nhap ban kinh R:\"))\n",
        "S= 3.14*a**2\n",
        "P= 2*3.14*a\n",
        "\n",
        "print(\"Dien tich S= %.1f\"%S)\n",
        "print(\"Chu vi P=%.1f\"%P)"
      ],
      "metadata": {
        "colab": {
          "base_uri": "https://localhost:8080/"
        },
        "id": "3ifR9JM2vGnG",
        "outputId": "8ba0b53c-31b8-4cc1-e4f7-e40bb3d82da1"
      },
      "execution_count": 15,
      "outputs": [
        {
          "output_type": "stream",
          "name": "stdout",
          "text": [
            "Moi ban nhap ban kinh R:5\n",
            "Dien tich S= 78.5\n",
            "Chu vi P=31.4\n"
          ]
        }
      ]
    }
  ]
}