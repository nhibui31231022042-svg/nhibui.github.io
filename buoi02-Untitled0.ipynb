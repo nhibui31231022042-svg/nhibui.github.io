{
  "nbformat": 4,
  "nbformat_minor": 0,
  "metadata": {
    "colab": {
      "provenance": [],
      "authorship_tag": "ABX9TyPSg1uiQp5XoD3Eo3Cp03K1",
      "include_colab_link": true
    },
    "kernelspec": {
      "name": "python3",
      "display_name": "Python 3"
    },
    "language_info": {
      "name": "python"
    }
  },
  "cells": [
    {
      "cell_type": "markdown",
      "metadata": {
        "id": "view-in-github",
        "colab_type": "text"
      },
      "source": [
        "<a href=\"https://colab.research.google.com/github/nhibui31231022042-svg/nhibui.github.io/blob/main/buoi02-Untitled0.ipynb\" target=\"_parent\"><img src=\"https://colab.research.google.com/assets/colab-badge.svg\" alt=\"Open In Colab\"/></a>"
      ]
    },
    {
      "cell_type": "code",
      "execution_count": 1,
      "metadata": {
        "colab": {
          "base_uri": "https://localhost:8080/"
        },
        "id": "Yw6HwooT5eAu",
        "outputId": "2069776a-862e-46be-d4dc-b02ff7786572"
      },
      "outputs": [
        {
          "output_type": "stream",
          "name": "stdout",
          "text": [
            "Hello World!\n"
          ]
        }
      ],
      "source": [
        "print(\"Hello World!\")\n"
      ]
    },
    {
      "cell_type": "code",
      "source": [
        "#comment\n",
        "'''\n",
        "comment\n",
        "'''\n",
        "print('comment')"
      ],
      "metadata": {
        "colab": {
          "base_uri": "https://localhost:8080/"
        },
        "id": "M2bF6PzM6yyY",
        "outputId": "65bfdf65-b04c-4b95-cad2-1d1eacadd4fa"
      },
      "execution_count": 2,
      "outputs": [
        {
          "output_type": "stream",
          "name": "stdout",
          "text": [
            "comment\n"
          ]
        }
      ]
    },
    {
      "cell_type": "code",
      "source": [
        "#indent\n",
        "score =80\n",
        "if score >=60 :\n",
        "  print (\"Pass\")\n",
        "  pass# dummy"
      ],
      "metadata": {
        "colab": {
          "base_uri": "https://localhost:8080/"
        },
        "id": "etRFtb1V69im",
        "outputId": "b2ed1efc-fbf6-4a3f-984f-b7bab9ccf978"
      },
      "execution_count": 4,
      "outputs": [
        {
          "output_type": "stream",
          "name": "stdout",
          "text": [
            "Pass\n"
          ]
        }
      ]
    },
    {
      "cell_type": "code",
      "source": [
        "# variable\n",
        "x=2\n",
        "price= 2.5\n",
        "word = 'Hello'\n",
        "word =\"Hello\"\n",
        "print(word,type(word))\n",
        "word = \"\"\n",
        "Hello\n",
        "\" \" \"\n",
        "print (word,type(word))"
      ],
      "metadata": {
        "colab": {
          "base_uri": "https://localhost:8080/",
          "height": 108
        },
        "id": "KxswAsAK7OfO",
        "outputId": "facdaf4a-9607-4429-de8f-6e84176f8b37"
      },
      "execution_count": 5,
      "outputs": [
        {
          "output_type": "error",
          "ename": "SyntaxError",
          "evalue": "unterminated string literal (detected at line 8) (ipython-input-2465294828.py, line 8)",
          "traceback": [
            "\u001b[0;36m  File \u001b[0;32m\"/tmp/ipython-input-2465294828.py\"\u001b[0;36m, line \u001b[0;32m8\u001b[0m\n\u001b[0;31m    \" \" \"\u001b[0m\n\u001b[0m        ^\u001b[0m\n\u001b[0;31mSyntaxError\u001b[0m\u001b[0;31m:\u001b[0m unterminated string literal (detected at line 8)\n"
          ]
        }
      ]
    },
    {
      "cell_type": "code",
      "source": [
        "x=2\n",
        "y=x+1\n",
        "print(f'x={x},y={y}')\n",
        "print('x=%d,y=%d'%(x,y))"
      ],
      "metadata": {
        "colab": {
          "base_uri": "https://localhost:8080/"
        },
        "id": "nFpAqK8O78T-",
        "outputId": "8886889c-7e37-423f-d41e-7adac6bf6e72"
      },
      "execution_count": 6,
      "outputs": [
        {
          "output_type": "stream",
          "name": "stdout",
          "text": [
            "x=2,y=3\n",
            "x=2,y=3\n"
          ]
        }
      ]
    },
    {
      "cell_type": "code",
      "source": [
        "x= \"Hello World\"#str\n",
        "print (x,type(x))\n",
        "x=2 #int\n",
        "print(x,type(x))\n",
        "x=2.5 #float\n",
        "print(x,type(x))\n",
        "x= 7j +3 #complex\n",
        "print(x,type(x))"
      ],
      "metadata": {
        "colab": {
          "base_uri": "https://localhost:8080/"
        },
        "id": "co6lRIBK9hYX",
        "outputId": "10aba51f-b33a-426a-f98a-656780af82da"
      },
      "execution_count": 7,
      "outputs": [
        {
          "output_type": "stream",
          "name": "stdout",
          "text": [
            "Hello World <class 'str'>\n",
            "2 <class 'int'>\n",
            "2.5 <class 'float'>\n",
            "(3+7j) <class 'complex'>\n"
          ]
        }
      ]
    },
    {
      "cell_type": "code",
      "source": [
        "x=[\"apple\",\"banana\",\"cherry\"] #list: chua cac doi tuong khac\n",
        "x=[2] = 'hello'\n",
        "print(x,x[2])\n",
        "\n",
        "x =(\"apple\",\"banana\",\"cherry\") # tuple: chua cac doi tuong khac, readonly\n",
        "# x [2]=10 #error\n",
        "print(x,x[2])\n",
        "\n",
        "x= range(6)#range:r(6)=[0,5), r(min,max)= [min,max)\n",
        "print (x, list(x)) #iterator: chi cap phat khi su dung (kieu iterator)\n",
        "\n",
        "x= {\"name\": \"Tom\",\"age\":20}#dict {k,v}\n",
        "print(x,x['age'])\n",
        "\n",
        "x= {\"apple\",\"banana\",\"cherry\",\"apple\"} #set\n",
        "print(x)"
      ],
      "metadata": {
        "colab": {
          "base_uri": "https://localhost:8080/",
          "height": 108
        },
        "id": "9jJe3Cqx98Si",
        "outputId": "a8964ff8-1e3e-4a88-fa54-6968a1567660"
      },
      "execution_count": 8,
      "outputs": [
        {
          "output_type": "error",
          "ename": "SyntaxError",
          "evalue": "cannot assign to literal (ipython-input-2705747189.py, line 2)",
          "traceback": [
            "\u001b[0;36m  File \u001b[0;32m\"/tmp/ipython-input-2705747189.py\"\u001b[0;36m, line \u001b[0;32m2\u001b[0m\n\u001b[0;31m    x=[2] = 'hello'\u001b[0m\n\u001b[0m       ^\u001b[0m\n\u001b[0;31mSyntaxError\u001b[0m\u001b[0;31m:\u001b[0m cannot assign to literal\n"
          ]
        }
      ]
    },
    {
      "cell_type": "code",
      "source": [
        "print('7 + 2 =', 7 + 2)\n",
        "print('7 - 2 =', 7 - 2)\n",
        "print('7 * 2 =', 7 * 2)\n",
        "print('7 / 2 =', 7 / 2)\n",
        "print('7 // 2 =', 7 // 2)\n",
        "print('7 % 2 =', 7 % 2)\n",
        "print('7 ** 2 =', 7 ** 2)"
      ],
      "metadata": {
        "colab": {
          "base_uri": "https://localhost:8080/"
        },
        "id": "ucJiA16oAulF",
        "outputId": "50d923b6-0817-48fe-e2d4-f3d005e46294"
      },
      "execution_count": 9,
      "outputs": [
        {
          "output_type": "stream",
          "name": "stdout",
          "text": [
            "7 + 2 = 9\n",
            "7 - 2 = 5\n",
            "7 * 2 = 14\n",
            "7 / 2 = 3.5\n",
            "7 // 2 = 3\n",
            "7 % 2 = 1\n",
            "7 ** 2 = 49\n"
          ]
        }
      ]
    },
    {
      "cell_type": "code",
      "source": [
        "# Python Booleans: True or False (ket qua cua so sanh)\n",
        "print(3 > 2)\n",
        "print(3 == 2)\n",
        "print(3 < 2)"
      ],
      "metadata": {
        "colab": {
          "base_uri": "https://localhost:8080/"
        },
        "id": "cL-nifX3AxCH",
        "outputId": "6a5dcf2b-99eb-4c22-b17a-1794d6d4479f"
      },
      "execution_count": 10,
      "outputs": [
        {
          "output_type": "stream",
          "name": "stdout",
          "text": [
            "True\n",
            "False\n",
            "False\n"
          ]
        }
      ]
    },
    {
      "cell_type": "code",
      "source": [
        "# tinh toan BMI\n",
        "# input\n",
        "height_cm=170\n",
        "weight_kg=60\n",
        "#process\n",
        "height_m = height_cm/100\n",
        "bmi=(weight_kg/(height_m**2))\n",
        "#result\n",
        "print(\"Your BMI is:\" + str(round(bmi,1)))"
      ],
      "metadata": {
        "colab": {
          "base_uri": "https://localhost:8080/"
        },
        "id": "1obaCDOvA8jZ",
        "outputId": "066ef05c-6464-4adb-bb2e-ab4bf3402ecd"
      },
      "execution_count": 14,
      "outputs": [
        {
          "output_type": "stream",
          "name": "stdout",
          "text": [
            "Your BMI is:20.8\n"
          ]
        }
      ]
    },
    {
      "cell_type": "code",
      "source": [
        "# Future value of a specified principal ammount, rate of interest, and a number of years\n",
        "# How much is your $100 worth after 7 years?\n",
        "fv = 100 * 1.1 ** 7\n",
        "print('fv = ', round(fv, 2))\n",
        "# output = 194.87"
      ],
      "metadata": {
        "colab": {
          "base_uri": "https://localhost:8080/"
        },
        "id": "yj3svtVmCP8U",
        "outputId": "00022b11-868e-4eb2-c305-436d3ccdf981"
      },
      "execution_count": 15,
      "outputs": [
        {
          "output_type": "stream",
          "name": "stdout",
          "text": [
            "fv =  194.87\n"
          ]
        }
      ]
    },
    {
      "cell_type": "code",
      "source": [
        "# Future Value\n",
        "pv = 100\n",
        "r = 0.1\n",
        "n = 7\n",
        "fv = pv * ((1 + (r)) ** n)\n",
        "print(round(fv, 2))"
      ],
      "metadata": {
        "colab": {
          "base_uri": "https://localhost:8080/"
        },
        "id": "51qF-s2sCkx_",
        "outputId": "835346b7-ca61-4965-d3c9-f082df162d0d"
      },
      "execution_count": 16,
      "outputs": [
        {
          "output_type": "stream",
          "name": "stdout",
          "text": [
            "194.87\n"
          ]
        }
      ]
    },
    {
      "cell_type": "code",
      "source": [
        "# Future Value\n",
        "amount = 100\n",
        "interest = 10 #10% = 0.01 * 10\n",
        "years = 7\n",
        "future_value = amount * ((1 + (0.01 * interest)) ** years)\n",
        "print(round(future_value, 2))"
      ],
      "metadata": {
        "colab": {
          "base_uri": "https://localhost:8080/"
        },
        "id": "jx75LExOCxIH",
        "outputId": "550b5021-5275-4c77-d24b-11f35b16cf57"
      },
      "execution_count": 17,
      "outputs": [
        {
          "output_type": "stream",
          "name": "stdout",
          "text": [
            "194.87\n"
          ]
        }
      ]
    },
    {
      "cell_type": "code",
      "source": [],
      "metadata": {
        "id": "D1CQSSnjC6dg"
      },
      "execution_count": null,
      "outputs": []
    },
    {
      "cell_type": "markdown",
      "source": [
        "# Data structure"
      ],
      "metadata": {
        "id": "32d0ImUTDQ4w"
      }
    },
    {
      "cell_type": "code",
      "source": [
        "x = [\"apple\", \"banana\", \"cherry\",\"cherry\"] #list\n",
        "print(x,type(x))\n",
        "x = (\"apple\", \"banana\", \"cherry\") #tuple\n",
        "print(x,type(x))\n",
        "x = {\"name\" : \"Tom\", \"age\" : 20, \"class\":\"KTLT\"} #dict\n",
        "print(x,type(x))\n",
        "x = {\"hello\",\"apple\", \"banana\", \"cherry\"} #set\n",
        "print(x,type(x))"
      ],
      "metadata": {
        "colab": {
          "base_uri": "https://localhost:8080/"
        },
        "id": "gDcT1YpwDUjI",
        "outputId": "e4587060-97ba-4596-f15c-e1d0805a8995"
      },
      "execution_count": 18,
      "outputs": [
        {
          "output_type": "stream",
          "name": "stdout",
          "text": [
            "['apple', 'banana', 'cherry', 'cherry'] <class 'list'>\n",
            "('apple', 'banana', 'cherry') <class 'tuple'>\n",
            "{'name': 'Tom', 'age': 20, 'class': 'KTLT'} <class 'dict'>\n",
            "{'hello', 'apple', 'banana', 'cherry'} <class 'set'>\n"
          ]
        }
      ]
    },
    {
      "cell_type": "code",
      "source": [
        "x = [60, 70, 80, 90]\n",
        "print(len(x))\n",
        "print(x[0])\n",
        "print(x[1])\n",
        "print(x[-1])\n",
        "print(x[1:3])\n",
        "print(x[-2:-4:-1])\n",
        "print(x[:-1],x[::-1])"
      ],
      "metadata": {
        "colab": {
          "base_uri": "https://localhost:8080/"
        },
        "id": "tw9kCBOiD74b",
        "outputId": "ae8b1ab1-1153-446a-cc24-41fc21dd47bc"
      },
      "execution_count": 21,
      "outputs": [
        {
          "output_type": "stream",
          "name": "stdout",
          "text": [
            "4\n",
            "60\n",
            "70\n",
            "90\n",
            "[70, 80]\n",
            "[80, 70]\n",
            "[60, 70, 80] [90, 80, 70, 60]\n"
          ]
        }
      ]
    },
    {
      "cell_type": "code",
      "source": [
        "a=[2,3,5]\n",
        "b=[1,2]\n",
        "a.extend(b)\n",
        "a.append(10)\n",
        "print(a)"
      ],
      "metadata": {
        "colab": {
          "base_uri": "https://localhost:8080/"
        },
        "id": "Cg4Ki9ClEti6",
        "outputId": "f2faf31b-6ea8-4ba3-ee8f-c6e5708404be"
      },
      "execution_count": 22,
      "outputs": [
        {
          "output_type": "stream",
          "name": "stdout",
          "text": [
            "[2, 3, 5, 1, 2, 10]\n"
          ]
        }
      ]
    },
    {
      "cell_type": "code",
      "source": [
        "x = (10, 20, 30, 40, 50)\n",
        "print(x[0])\n",
        "print(x[1])\n",
        "print(x[2])\n",
        "print(x[-1])"
      ],
      "metadata": {
        "colab": {
          "base_uri": "https://localhost:8080/"
        },
        "id": "q9-m_gMbEtcr",
        "outputId": "2619b565-8b83-4a52-fede-13bd3984c493"
      },
      "execution_count": 23,
      "outputs": [
        {
          "output_type": "stream",
          "name": "stdout",
          "text": [
            "10\n",
            "20\n",
            "30\n",
            "50\n"
          ]
        }
      ]
    },
    {
      "cell_type": "code",
      "source": [
        "animals = {'cat', 'dog'}\n",
        "print(animals)\n",
        "print('cat' in animals)\n",
        "print('fish' in animals)\n",
        "\n",
        "animals.add('fish')\n",
        "print(animals)\n",
        "\n",
        "print('fish' in animals)\n",
        "print(len(animals))\n",
        "\n",
        "animals.add(\"cat\")\n",
        "print(len(animals))\n",
        "\n",
        "animals.remove('cat')\n",
        "print(animals)\n",
        "\n",
        "print(len(animals))"
      ],
      "metadata": {
        "colab": {
          "base_uri": "https://localhost:8080/"
        },
        "id": "cZ1gwtWmFG2B",
        "outputId": "69977067-33d1-4ac5-9e56-f60b29beaecd"
      },
      "execution_count": 25,
      "outputs": [
        {
          "output_type": "stream",
          "name": "stdout",
          "text": [
            "{'cat', 'dog'}\n",
            "True\n",
            "False\n",
            "{'cat', 'dog', 'fish'}\n",
            "True\n",
            "3\n",
            "3\n",
            "{'dog', 'fish'}\n",
            "2\n"
          ]
        }
      ]
    },
    {
      "cell_type": "code",
      "source": [
        "s= \"Hom nay la thu hai\"\n",
        "print(list(s), list(s))\n",
        "print(set(list(s)),len(set(list(s))))"
      ],
      "metadata": {
        "colab": {
          "base_uri": "https://localhost:8080/"
        },
        "id": "osI26579Fn33",
        "outputId": "170e50d5-08ed-4700-9d34-3c7d67d2ac10"
      },
      "execution_count": 26,
      "outputs": [
        {
          "output_type": "stream",
          "name": "stdout",
          "text": [
            "['H', 'o', 'm', ' ', 'n', 'a', 'y', ' ', 'l', 'a', ' ', 't', 'h', 'u', ' ', 'h', 'a', 'i'] ['H', 'o', 'm', ' ', 'n', 'a', 'y', ' ', 'l', 'a', ' ', 't', 'h', 'u', ' ', 'h', 'a', 'i']\n",
            "{'h', 'y', 'u', 'l', 'm', 'i', 't', 'a', 'o', 'n', 'H', ' '} 12\n"
          ]
        }
      ]
    },
    {
      "cell_type": "code",
      "source": [
        "#dictionary\n",
        "k = { 'EN':'English','FR':'French' }\n",
        "print(k['EN'])"
      ],
      "metadata": {
        "colab": {
          "base_uri": "https://localhost:8080/"
        },
        "id": "DTzj2JmsF7ft",
        "outputId": "339e8858-ea32-4909-806f-b8a7aea16afe"
      },
      "execution_count": 27,
      "outputs": [
        {
          "output_type": "stream",
          "name": "stdout",
          "text": [
            "English\n"
          ]
        }
      ]
    },
    {
      "cell_type": "code",
      "source": [
        "s= \"Hom nay la thu hai\"\n",
        "d_cnt ={}\n",
        "for ci in list(s):\n",
        "  if d_cnt.get(ci)is None:\n",
        "    d_cnt[ci]=1\n",
        "  else:\n",
        "      d_cnt[ci]=d_cnt[ci]+1\n",
        "print(d_cnt)"
      ],
      "metadata": {
        "colab": {
          "base_uri": "https://localhost:8080/"
        },
        "id": "gQSlSEDTGKrS",
        "outputId": "edbf365c-35d7-429f-f490-486b02771af9"
      },
      "execution_count": 30,
      "outputs": [
        {
          "output_type": "stream",
          "name": "stdout",
          "text": [
            "{'H': 1, 'o': 1, 'm': 1, ' ': 4, 'n': 1, 'a': 3, 'y': 1, 'l': 1, 't': 1, 'h': 2, 'u': 1, 'i': 1}\n"
          ]
        }
      ]
    },
    {
      "cell_type": "code",
      "source": [
        "fruits = [\"apple\", \"banana\", \"cherry\"] #lists []\n",
        "print(fruits)\n",
        "colors = (\"red\", \"green\", \"blue\") #tuples ()\n",
        "print(colors)\n",
        "animals = {'cat', 'dog'} #sets {}\n",
        "print(animals)\n",
        "person = {\"name\" : \"Tom\", \"age\" : 20} #dictionaries {}\n",
        "print(person)"
      ],
      "metadata": {
        "colab": {
          "base_uri": "https://localhost:8080/"
        },
        "id": "1wT4PyB8GyRN",
        "outputId": "fe53a315-a33b-4d4e-d2e9-1505d1cd6fe3"
      },
      "execution_count": 33,
      "outputs": [
        {
          "output_type": "stream",
          "name": "stdout",
          "text": [
            "['apple', 'banana', 'cherry']\n",
            "('red', 'green', 'blue')\n",
            "{'cat', 'dog'}\n",
            "{'name': 'Tom', 'age': 20}\n"
          ]
        }
      ]
    },
    {
      "cell_type": "code",
      "source": [
        "import pandas as pd\n",
        "pd.Datarame([person])"
      ],
      "metadata": {
        "colab": {
          "base_uri": "https://localhost:8080/",
          "height": 162
        },
        "id": "0i0VnBcjHBys",
        "outputId": "8e20aab3-0059-4f6e-f071-3efb71b9a2fa"
      },
      "execution_count": 34,
      "outputs": [
        {
          "output_type": "error",
          "ename": "AttributeError",
          "evalue": "module 'pandas' has no attribute 'Datarame'",
          "traceback": [
            "\u001b[0;31m---------------------------------------------------------------------------\u001b[0m",
            "\u001b[0;31mAttributeError\u001b[0m                            Traceback (most recent call last)",
            "\u001b[0;32m/tmp/ipython-input-3781842296.py\u001b[0m in \u001b[0;36m<cell line: 0>\u001b[0;34m()\u001b[0m\n\u001b[1;32m      1\u001b[0m \u001b[0;32mimport\u001b[0m \u001b[0mpandas\u001b[0m \u001b[0;32mas\u001b[0m \u001b[0mpd\u001b[0m\u001b[0;34m\u001b[0m\u001b[0;34m\u001b[0m\u001b[0m\n\u001b[0;32m----> 2\u001b[0;31m \u001b[0mpd\u001b[0m\u001b[0;34m.\u001b[0m\u001b[0mDatarame\u001b[0m\u001b[0;34m(\u001b[0m\u001b[0;34m[\u001b[0m\u001b[0mperson\u001b[0m\u001b[0;34m]\u001b[0m\u001b[0;34m)\u001b[0m\u001b[0;34m\u001b[0m\u001b[0;34m\u001b[0m\u001b[0m\n\u001b[0m",
            "\u001b[0;31mAttributeError\u001b[0m: module 'pandas' has no attribute 'Datarame'"
          ]
        }
      ]
    },
    {
      "cell_type": "code",
      "source": [
        "# Python Lists\n",
        "expenses = [72.50, 80.75, 50.00, 90.25]\n",
        "total_expenses = sum(expenses)\n",
        "print(\"Total expenses:\", total_expenses)"
      ],
      "metadata": {
        "colab": {
          "base_uri": "https://localhost:8080/"
        },
        "id": "seE6KOupH484",
        "outputId": "c8b298ce-e09f-440e-f86f-f84479debde9"
      },
      "execution_count": 35,
      "outputs": [
        {
          "output_type": "stream",
          "name": "stdout",
          "text": [
            "Total expenses: 293.5\n"
          ]
        }
      ]
    },
    {
      "cell_type": "code",
      "source": [
        "# Python Tuples\n",
        "accounts = ((\"Cash\", 1001), (\"Accounts Receivable\", 1002),(\"Inventory\", 1003))\n",
        "for account in accounts:\n",
        "print(\"Account name:\", account[0], \"Account number:\", account[1])"
      ],
      "metadata": {
        "colab": {
          "base_uri": "https://localhost:8080/",
          "height": 108
        },
        "id": "c-seaLe3H-4h",
        "outputId": "0908cefe-1ae2-4264-d4cd-48e5a864d7ef"
      },
      "execution_count": 36,
      "outputs": [
        {
          "output_type": "error",
          "ename": "IndentationError",
          "evalue": "expected an indented block after 'for' statement on line 3 (ipython-input-1359554555.py, line 4)",
          "traceback": [
            "\u001b[0;36m  File \u001b[0;32m\"/tmp/ipython-input-1359554555.py\"\u001b[0;36m, line \u001b[0;32m4\u001b[0m\n\u001b[0;31m    print(\"Account name:\", account[0], \"Account number:\", account[1])\u001b[0m\n\u001b[0m    ^\u001b[0m\n\u001b[0;31mIndentationError\u001b[0m\u001b[0;31m:\u001b[0m expected an indented block after 'for' statement on line 3\n"
          ]
        }
      ]
    },
    {
      "cell_type": "code",
      "source": [
        "# Python Dictionaries\n",
        "accounts = {\n",
        "    \"1001\": {\"name\": \"Cash\", \"balance\": 500.00, \"type\": \"Asset\"},\n",
        "    \"1002\": {\"name\": \"Accounts Receivable\", \"balance\": 1000.00, \"type\": \"Asset\"},\n",
        "    \"2001\": {\"name\": \"Accounts Payable\", \"balance\": 750.00, \"type\": \"Liability\"}}\n",
        "for account_number, account_info in accounts.items():\n",
        " print(\"Account number:\", account_number)\n",
        " print(\"Account name:\", account_info[\"name\"])\n",
        " print(\"Account balance:\", account_info[\"balance\"])\n",
        " print(\"Account type:\", account_info[\"type\"])\n",
        " print(\"-\"*20)\n",
        " row={'number':account_number,**sccount_info}\n",
        " rows.append(account_info[\"type\"])\n",
        "pd.DataFrame(rows)"
      ],
      "metadata": {
        "colab": {
          "base_uri": "https://localhost:8080/",
          "height": 305
        },
        "id": "KEaf6MFbIX2B",
        "outputId": "ebebcb44-fc9c-412b-bb7e-746a28195bf8"
      },
      "execution_count": 39,
      "outputs": [
        {
          "output_type": "stream",
          "name": "stdout",
          "text": [
            "Account number: 1001\n",
            "Account name: Cash\n",
            "Account balance: 500.0\n",
            "Account type: Asset\n",
            "--------------------\n"
          ]
        },
        {
          "output_type": "error",
          "ename": "NameError",
          "evalue": "name 'sccount_info' is not defined",
          "traceback": [
            "\u001b[0;31m---------------------------------------------------------------------------\u001b[0m",
            "\u001b[0;31mNameError\u001b[0m                                 Traceback (most recent call last)",
            "\u001b[0;32m/tmp/ipython-input-407509753.py\u001b[0m in \u001b[0;36m<cell line: 0>\u001b[0;34m()\u001b[0m\n\u001b[1;32m     10\u001b[0m  \u001b[0mprint\u001b[0m\u001b[0;34m(\u001b[0m\u001b[0;34m\"Account type:\"\u001b[0m\u001b[0;34m,\u001b[0m \u001b[0maccount_info\u001b[0m\u001b[0;34m[\u001b[0m\u001b[0;34m\"type\"\u001b[0m\u001b[0;34m]\u001b[0m\u001b[0;34m)\u001b[0m\u001b[0;34m\u001b[0m\u001b[0;34m\u001b[0m\u001b[0m\n\u001b[1;32m     11\u001b[0m  \u001b[0mprint\u001b[0m\u001b[0;34m(\u001b[0m\u001b[0;34m\"-\"\u001b[0m\u001b[0;34m*\u001b[0m\u001b[0;36m20\u001b[0m\u001b[0;34m)\u001b[0m\u001b[0;34m\u001b[0m\u001b[0;34m\u001b[0m\u001b[0m\n\u001b[0;32m---> 12\u001b[0;31m  \u001b[0mrow\u001b[0m\u001b[0;34m=\u001b[0m\u001b[0;34m{\u001b[0m\u001b[0;34m'number'\u001b[0m\u001b[0;34m:\u001b[0m\u001b[0maccount_number\u001b[0m\u001b[0;34m,\u001b[0m\u001b[0;34m**\u001b[0m\u001b[0msccount_info\u001b[0m\u001b[0;34m}\u001b[0m\u001b[0;34m\u001b[0m\u001b[0;34m\u001b[0m\u001b[0m\n\u001b[0m\u001b[1;32m     13\u001b[0m  \u001b[0mrows\u001b[0m\u001b[0;34m.\u001b[0m\u001b[0mappend\u001b[0m\u001b[0;34m(\u001b[0m\u001b[0maccount_info\u001b[0m\u001b[0;34m[\u001b[0m\u001b[0;34m\"type\"\u001b[0m\u001b[0;34m]\u001b[0m\u001b[0;34m)\u001b[0m\u001b[0;34m\u001b[0m\u001b[0;34m\u001b[0m\u001b[0m\n\u001b[1;32m     14\u001b[0m \u001b[0mpd\u001b[0m\u001b[0;34m.\u001b[0m\u001b[0mDataFrame\u001b[0m\u001b[0;34m(\u001b[0m\u001b[0mrows\u001b[0m\u001b[0;34m)\u001b[0m\u001b[0;34m\u001b[0m\u001b[0;34m\u001b[0m\u001b[0m\n",
            "\u001b[0;31mNameError\u001b[0m: name 'sccount_info' is not defined"
          ]
        }
      ]
    },
    {
      "cell_type": "code",
      "source": [
        " a,b=5,2\n",
        " for a,b in [(5,2),(5,5),(2,5)]:\n",
        "  print(f'a={a},b={b}')\n",
        "  print(\"<\",a<b)#a<b\n",
        "  print(\">\",a>b,b<a)\n",
        "  print(\">=\",a>=b,not (a<b))\n",
        "  print(\"<=\",a<=b,not (b<a))\n",
        "  print(\"==\",a==b,not(b<a) and not (a<b) )\n",
        "  print(\"!=\",a!=b,b<a or a<b )\n",
        "  print('-'*50)"
      ],
      "metadata": {
        "colab": {
          "base_uri": "https://localhost:8080/"
        },
        "id": "8xKuKiAzJcP1",
        "outputId": "21ea6304-6e29-4b82-b5bd-eceeab3ff483"
      },
      "execution_count": 44,
      "outputs": [
        {
          "output_type": "stream",
          "name": "stdout",
          "text": [
            "a=5,b=2\n",
            "< False\n",
            "> True True\n",
            ">= True True\n",
            "<= False False\n",
            "== False False\n",
            "!= True True\n",
            "--------------------------------------------------\n",
            "a=5,b=5\n",
            "< False\n",
            "> False False\n",
            ">= True True\n",
            "<= True True\n",
            "== True True\n",
            "!= False False\n",
            "--------------------------------------------------\n",
            "a=2,b=5\n",
            "< True\n",
            "> False False\n",
            ">= False False\n",
            "<= True True\n",
            "== False False\n",
            "!= True True\n",
            "--------------------------------------------------\n"
          ]
        }
      ]
    },
    {
      "cell_type": "code",
      "source": [
        "for i in range(1,6):\n",
        " print(i , end =\" \")"
      ],
      "metadata": {
        "colab": {
          "base_uri": "https://localhost:8080/"
        },
        "id": "F3HLMEOmNMKu",
        "outputId": "d2b682f4-14fa-43e5-b7f4-1112cdd9d193"
      },
      "execution_count": 50,
      "outputs": [
        {
          "output_type": "stream",
          "name": "stdout",
          "text": [
            "1 2 3 4 5 "
          ]
        }
      ]
    },
    {
      "cell_type": "code",
      "source": [
        "# for loops\n",
        "for i in range(1,10):\n",
        " for j in range(1,10):\n",
        "  print(i, ' * ' , j , ' = ', i*j)\n",
        "print(\"-\"*50)"
      ],
      "metadata": {
        "colab": {
          "base_uri": "https://localhost:8080/"
        },
        "id": "90OF3CTfM8Qd",
        "outputId": "230d2ffb-3be1-476e-be2c-567c389df428"
      },
      "execution_count": 47,
      "outputs": [
        {
          "output_type": "stream",
          "name": "stdout",
          "text": [
            "1  *  1  =  1\n",
            "1  *  2  =  2\n",
            "1  *  3  =  3\n",
            "1  *  4  =  4\n",
            "1  *  5  =  5\n",
            "1  *  6  =  6\n",
            "1  *  7  =  7\n",
            "1  *  8  =  8\n",
            "1  *  9  =  9\n",
            "2  *  1  =  2\n",
            "2  *  2  =  4\n",
            "2  *  3  =  6\n",
            "2  *  4  =  8\n",
            "2  *  5  =  10\n",
            "2  *  6  =  12\n",
            "2  *  7  =  14\n",
            "2  *  8  =  16\n",
            "2  *  9  =  18\n",
            "3  *  1  =  3\n",
            "3  *  2  =  6\n",
            "3  *  3  =  9\n",
            "3  *  4  =  12\n",
            "3  *  5  =  15\n",
            "3  *  6  =  18\n",
            "3  *  7  =  21\n",
            "3  *  8  =  24\n",
            "3  *  9  =  27\n",
            "4  *  1  =  4\n",
            "4  *  2  =  8\n",
            "4  *  3  =  12\n",
            "4  *  4  =  16\n",
            "4  *  5  =  20\n",
            "4  *  6  =  24\n",
            "4  *  7  =  28\n",
            "4  *  8  =  32\n",
            "4  *  9  =  36\n",
            "5  *  1  =  5\n",
            "5  *  2  =  10\n",
            "5  *  3  =  15\n",
            "5  *  4  =  20\n",
            "5  *  5  =  25\n",
            "5  *  6  =  30\n",
            "5  *  7  =  35\n",
            "5  *  8  =  40\n",
            "5  *  9  =  45\n",
            "6  *  1  =  6\n",
            "6  *  2  =  12\n",
            "6  *  3  =  18\n",
            "6  *  4  =  24\n",
            "6  *  5  =  30\n",
            "6  *  6  =  36\n",
            "6  *  7  =  42\n",
            "6  *  8  =  48\n",
            "6  *  9  =  54\n",
            "7  *  1  =  7\n",
            "7  *  2  =  14\n",
            "7  *  3  =  21\n",
            "7  *  4  =  28\n",
            "7  *  5  =  35\n",
            "7  *  6  =  42\n",
            "7  *  7  =  49\n",
            "7  *  8  =  56\n",
            "7  *  9  =  63\n",
            "8  *  1  =  8\n",
            "8  *  2  =  16\n",
            "8  *  3  =  24\n",
            "8  *  4  =  32\n",
            "8  *  5  =  40\n",
            "8  *  6  =  48\n",
            "8  *  7  =  56\n",
            "8  *  8  =  64\n",
            "8  *  9  =  72\n",
            "9  *  1  =  9\n",
            "9  *  2  =  18\n",
            "9  *  3  =  27\n",
            "9  *  4  =  36\n",
            "9  *  5  =  45\n",
            "9  *  6  =  54\n",
            "9  *  7  =  63\n",
            "9  *  8  =  72\n",
            "9  *  9  =  81\n",
            "--------------------------------------------------\n"
          ]
        }
      ]
    },
    {
      "cell_type": "code",
      "source": [
        "# while loops\n",
        "age = 10\n",
        "while age < 20:\n",
        "  print(age, end = \" \")\n",
        "  age = age + 1\n"
      ],
      "metadata": {
        "colab": {
          "base_uri": "https://localhost:8080/"
        },
        "id": "WIzblRwbNYW8",
        "outputId": "a029b252-c014-403e-b542-6436a1fd1497"
      },
      "execution_count": 49,
      "outputs": [
        {
          "output_type": "stream",
          "name": "stdout",
          "text": [
            "10 11 12 13 14 15 16 17 18 19 "
          ]
        }
      ]
    },
    {
      "cell_type": "markdown",
      "source": [
        "Python function def"
      ],
      "metadata": {
        "id": "17IiBY0wNwkv"
      }
    },
    {
      "cell_type": "code",
      "source": [],
      "metadata": {
        "id": "5bLtNyGIN-xY"
      },
      "execution_count": null,
      "outputs": []
    },
    {
      "cell_type": "markdown",
      "source": [
        "Python classes/ objects"
      ],
      "metadata": {
        "id": "4uD9VUCQOaZC"
      }
    },
    {
      "cell_type": "code",
      "source": [
        "# Python class\n",
        "class MyClass:# class: mau giay to\n",
        " x = 5\n",
        "c1 = MyClass()#object: sv A dien vao giay to\n",
        "print(c1.x)"
      ],
      "metadata": {
        "colab": {
          "base_uri": "https://localhost:8080/"
        },
        "id": "_56K9d9nNpeS",
        "outputId": "2febf68f-b3a7-47b0-f553-b1d34cf81900"
      },
      "execution_count": 52,
      "outputs": [
        {
          "output_type": "stream",
          "name": "stdout",
          "text": [
            "5\n"
          ]
        }
      ]
    },
    {
      "cell_type": "code",
      "source": [
        "class Person:\n",
        " def __init__(self, name, age):#ham tao phai co tu khoa self\n",
        "  self.name = name#dinh nghia hinh thuc\n",
        "  self.age = age\n",
        "\n",
        "p1 = Person(\"Alan\", 20)#_int_(p1,\"Alan\",20)\n",
        "print(p1.name)\n",
        "print(p1.age)"
      ],
      "metadata": {
        "colab": {
          "base_uri": "https://localhost:8080/"
        },
        "id": "CIzAfAvmO39I",
        "outputId": "fc68fa39-b8a5-401c-88a5-bb1e401aaf6c"
      },
      "execution_count": 54,
      "outputs": [
        {
          "output_type": "stream",
          "name": "stdout",
          "text": [
            "Alan\n",
            "20\n"
          ]
        }
      ]
    }
  ]
}