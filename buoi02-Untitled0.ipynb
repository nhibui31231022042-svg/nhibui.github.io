{
  "nbformat": 4,
  "nbformat_minor": 0,
  "metadata": {
    "colab": {
      "provenance": [],
      "authorship_tag": "ABX9TyOjtMwSo8EfMpVJYBrnvUv2",
      "include_colab_link": true
    },
    "kernelspec": {
      "name": "python3",
      "display_name": "Python 3"
    },
    "language_info": {
      "name": "python"
    }
  },
  "cells": [
    {
      "cell_type": "markdown",
      "metadata": {
        "id": "view-in-github",
        "colab_type": "text"
      },
      "source": [
        "<a href=\"https://colab.research.google.com/github/nhibui31231022042-svg/nhibui.github.io/blob/main/buoi02-Untitled0.ipynb\" target=\"_parent\"><img src=\"https://colab.research.google.com/assets/colab-badge.svg\" alt=\"Open In Colab\"/></a>"
      ]
    },
    {
      "cell_type": "code",
      "execution_count": 1,
      "metadata": {
        "colab": {
          "base_uri": "https://localhost:8080/"
        },
        "id": "Yw6HwooT5eAu",
        "outputId": "2069776a-862e-46be-d4dc-b02ff7786572"
      },
      "outputs": [
        {
          "output_type": "stream",
          "name": "stdout",
          "text": [
            "Hello World!\n"
          ]
        }
      ],
      "source": [
        "print(\"Hello World!\")\n"
      ]
    },
    {
      "cell_type": "code",
      "source": [
        "#comment\n",
        "'''\n",
        "comment\n",
        "'''\n",
        "print('comment')"
      ],
      "metadata": {
        "colab": {
          "base_uri": "https://localhost:8080/"
        },
        "id": "M2bF6PzM6yyY",
        "outputId": "65bfdf65-b04c-4b95-cad2-1d1eacadd4fa"
      },
      "execution_count": 2,
      "outputs": [
        {
          "output_type": "stream",
          "name": "stdout",
          "text": [
            "comment\n"
          ]
        }
      ]
    },
    {
      "cell_type": "code",
      "source": [
        "#indent\n",
        "score =80\n",
        "if score >=60 :\n",
        "  print (\"Pass\")\n",
        "  pass# dummy"
      ],
      "metadata": {
        "colab": {
          "base_uri": "https://localhost:8080/"
        },
        "id": "etRFtb1V69im",
        "outputId": "b2ed1efc-fbf6-4a3f-984f-b7bab9ccf978"
      },
      "execution_count": 4,
      "outputs": [
        {
          "output_type": "stream",
          "name": "stdout",
          "text": [
            "Pass\n"
          ]
        }
      ]
    },
    {
      "cell_type": "code",
      "source": [
        "# variable\n",
        "x=2\n",
        "price= 2.5\n",
        "word = 'Hello'\n",
        "word =\"Hello\"\n",
        "print(word,type(word))\n",
        "word = \"\"\n",
        "Hello\n",
        "\" \" \"\n",
        "print (word,type(word))"
      ],
      "metadata": {
        "colab": {
          "base_uri": "https://localhost:8080/",
          "height": 108
        },
        "id": "KxswAsAK7OfO",
        "outputId": "facdaf4a-9607-4429-de8f-6e84176f8b37"
      },
      "execution_count": 5,
      "outputs": [
        {
          "output_type": "error",
          "ename": "SyntaxError",
          "evalue": "unterminated string literal (detected at line 8) (ipython-input-2465294828.py, line 8)",
          "traceback": [
            "\u001b[0;36m  File \u001b[0;32m\"/tmp/ipython-input-2465294828.py\"\u001b[0;36m, line \u001b[0;32m8\u001b[0m\n\u001b[0;31m    \" \" \"\u001b[0m\n\u001b[0m        ^\u001b[0m\n\u001b[0;31mSyntaxError\u001b[0m\u001b[0;31m:\u001b[0m unterminated string literal (detected at line 8)\n"
          ]
        }
      ]
    },
    {
      "cell_type": "code",
      "source": [
        "x=2\n",
        "y=x+1\n",
        "print(f'x={x},y={y}')\n",
        "print()"
      ],
      "metadata": {
        "id": "nFpAqK8O78T-"
      },
      "execution_count": null,
      "outputs": []
    }
  ]
}