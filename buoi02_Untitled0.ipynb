{
  "nbformat": 4,
  "nbformat_minor": 0,
  "metadata": {
    "colab": {
      "provenance": [],
      "authorship_tag": "ABX9TyOFSNXvWXPZ2DKeAvlWC1bn",
      "include_colab_link": true
    },
    "kernelspec": {
      "name": "python3",
      "display_name": "Python 3"
    },
    "language_info": {
      "name": "python"
    }
  },
  "cells": [
    {
      "cell_type": "markdown",
      "metadata": {
        "id": "view-in-github",
        "colab_type": "text"
      },
      "source": [
        "<a href=\"https://colab.research.google.com/github/nhibui31231022042-svg/nhibui.github.io/blob/main/buoi02_Untitled0.ipynb\" target=\"_parent\"><img src=\"https://colab.research.google.com/assets/colab-badge.svg\" alt=\"Open In Colab\"/></a>"
      ]
    },
    {
      "cell_type": "code",
      "execution_count": 1,
      "metadata": {
        "colab": {
          "base_uri": "https://localhost:8080/"
        },
        "id": "Yw6HwooT5eAu",
        "outputId": "2069776a-862e-46be-d4dc-b02ff7786572"
      },
      "outputs": [
        {
          "output_type": "stream",
          "name": "stdout",
          "text": [
            "Hello World!\n"
          ]
        }
      ],
      "source": [
        "print(\"Hello World!\")\n"
      ]
    },
    {
      "cell_type": "code",
      "source": [
        "#comment\n",
        "'''\n",
        "comment\n",
        "'''\n",
        "print('comment')"
      ],
      "metadata": {
        "colab": {
          "base_uri": "https://localhost:8080/"
        },
        "id": "M2bF6PzM6yyY",
        "outputId": "65bfdf65-b04c-4b95-cad2-1d1eacadd4fa"
      },
      "execution_count": 2,
      "outputs": [
        {
          "output_type": "stream",
          "name": "stdout",
          "text": [
            "comment\n"
          ]
        }
      ]
    },
    {
      "cell_type": "code",
      "source": [
        "#indent\n",
        "score =80\n",
        "if score >=60 :\n",
        "  print (\"Pass\")\n",
        "  pass# dummy"
      ],
      "metadata": {
        "colab": {
          "base_uri": "https://localhost:8080/"
        },
        "id": "etRFtb1V69im",
        "outputId": "b2ed1efc-fbf6-4a3f-984f-b7bab9ccf978"
      },
      "execution_count": 4,
      "outputs": [
        {
          "output_type": "stream",
          "name": "stdout",
          "text": [
            "Pass\n"
          ]
        }
      ]
    },
    {
      "cell_type": "code",
      "source": [
        "# variable\n",
        "x=2\n",
        "price= 2.5\n",
        "word = 'Hello'\n",
        "word =\"Hello\"\n",
        "print(word,type(word))\n",
        "word = \"\"\n",
        "Hello\n",
        "\" \" \"\n",
        "print (word,type(word))"
      ],
      "metadata": {
        "colab": {
          "base_uri": "https://localhost:8080/",
          "height": 108
        },
        "id": "KxswAsAK7OfO",
        "outputId": "facdaf4a-9607-4429-de8f-6e84176f8b37"
      },
      "execution_count": 5,
      "outputs": [
        {
          "output_type": "error",
          "ename": "SyntaxError",
          "evalue": "unterminated string literal (detected at line 8) (ipython-input-2465294828.py, line 8)",
          "traceback": [
            "\u001b[0;36m  File \u001b[0;32m\"/tmp/ipython-input-2465294828.py\"\u001b[0;36m, line \u001b[0;32m8\u001b[0m\n\u001b[0;31m    \" \" \"\u001b[0m\n\u001b[0m        ^\u001b[0m\n\u001b[0;31mSyntaxError\u001b[0m\u001b[0;31m:\u001b[0m unterminated string literal (detected at line 8)\n"
          ]
        }
      ]
    },
    {
      "cell_type": "code",
      "source": [
        "x=2\n",
        "y=x+1\n",
        "print(f'x={x},y={y}')\n",
        "print('x=%d,y=%d'%(x,y))"
      ],
      "metadata": {
        "colab": {
          "base_uri": "https://localhost:8080/"
        },
        "id": "nFpAqK8O78T-",
        "outputId": "8886889c-7e37-423f-d41e-7adac6bf6e72"
      },
      "execution_count": 6,
      "outputs": [
        {
          "output_type": "stream",
          "name": "stdout",
          "text": [
            "x=2,y=3\n",
            "x=2,y=3\n"
          ]
        }
      ]
    },
    {
      "cell_type": "code",
      "source": [
        "x= \"Hello World\"#str\n",
        "print (x,type(x))\n",
        "x=2 #int\n",
        "print(x,type(x))\n",
        "x=2.5 #float\n",
        "print(x,type(x))\n",
        "x= 7j +3 #complex\n",
        "print(x,type(x))"
      ],
      "metadata": {
        "colab": {
          "base_uri": "https://localhost:8080/"
        },
        "id": "co6lRIBK9hYX",
        "outputId": "10aba51f-b33a-426a-f98a-656780af82da"
      },
      "execution_count": 7,
      "outputs": [
        {
          "output_type": "stream",
          "name": "stdout",
          "text": [
            "Hello World <class 'str'>\n",
            "2 <class 'int'>\n",
            "2.5 <class 'float'>\n",
            "(3+7j) <class 'complex'>\n"
          ]
        }
      ]
    },
    {
      "cell_type": "code",
      "source": [
        "x=[\"apple\",\"banana\",\"cherry\"] #list: chua cac doi tuong khac\n",
        "x=[2] = 'hello'\n",
        "print(x,x[2])\n",
        "\n",
        "x =(\"apple\",\"banana\",\"cherry\") # tuple: chua cac doi tuong khac, readonly\n",
        "# x [2]=10 #error\n",
        "print(x,x[2])\n",
        "\n",
        "x= range(6)#range:r(6)=[0,5), r(min,max)= [min,max)\n",
        "print (x, list(x)) #iterator: chi cap phat khi su dung (kieu iterator)\n",
        "\n",
        "x= {\"name\": \"Tom\",\"age\":20}#dict {k,v}\n",
        "print(x,x['age'])\n",
        "\n",
        "x= {\"apple\",\"banana\",\"cherry\",\"apple\"} #set\n",
        "print(x)"
      ],
      "metadata": {
        "colab": {
          "base_uri": "https://localhost:8080/",
          "height": 108
        },
        "id": "9jJe3Cqx98Si",
        "outputId": "a8964ff8-1e3e-4a88-fa54-6968a1567660"
      },
      "execution_count": 8,
      "outputs": [
        {
          "output_type": "error",
          "ename": "SyntaxError",
          "evalue": "cannot assign to literal (ipython-input-2705747189.py, line 2)",
          "traceback": [
            "\u001b[0;36m  File \u001b[0;32m\"/tmp/ipython-input-2705747189.py\"\u001b[0;36m, line \u001b[0;32m2\u001b[0m\n\u001b[0;31m    x=[2] = 'hello'\u001b[0m\n\u001b[0m       ^\u001b[0m\n\u001b[0;31mSyntaxError\u001b[0m\u001b[0;31m:\u001b[0m cannot assign to literal\n"
          ]
        }
      ]
    },
    {
      "cell_type": "code",
      "source": [
        "print('7 + 2 =', 7 + 2)\n",
        "print('7 - 2 =', 7 - 2)\n",
        "print('7 * 2 =', 7 * 2)\n",
        "print('7 / 2 =', 7 / 2)\n",
        "print('7 // 2 =', 7 // 2)\n",
        "print('7 % 2 =', 7 % 2)\n",
        "print('7 ** 2 =', 7 ** 2)"
      ],
      "metadata": {
        "colab": {
          "base_uri": "https://localhost:8080/"
        },
        "id": "ucJiA16oAulF",
        "outputId": "50d923b6-0817-48fe-e2d4-f3d005e46294"
      },
      "execution_count": 9,
      "outputs": [
        {
          "output_type": "stream",
          "name": "stdout",
          "text": [
            "7 + 2 = 9\n",
            "7 - 2 = 5\n",
            "7 * 2 = 14\n",
            "7 / 2 = 3.5\n",
            "7 // 2 = 3\n",
            "7 % 2 = 1\n",
            "7 ** 2 = 49\n"
          ]
        }
      ]
    },
    {
      "cell_type": "code",
      "source": [
        "# Python Booleans: True or False (ket qua cua so sanh)\n",
        "print(3 > 2)\n",
        "print(3 == 2)\n",
        "print(3 < 2)"
      ],
      "metadata": {
        "colab": {
          "base_uri": "https://localhost:8080/"
        },
        "id": "cL-nifX3AxCH",
        "outputId": "6a5dcf2b-99eb-4c22-b17a-1794d6d4479f"
      },
      "execution_count": 10,
      "outputs": [
        {
          "output_type": "stream",
          "name": "stdout",
          "text": [
            "True\n",
            "False\n",
            "False\n"
          ]
        }
      ]
    },
    {
      "cell_type": "code",
      "source": [
        "# tinh toan BMI\n",
        "# input\n",
        "height_cm=170\n",
        "weight_kg=60\n",
        "#process\n",
        "height_m = height_cm/100\n",
        "bmi=(weight_kg/(height_m**2))\n",
        "#result\n",
        "print(\"Your BMI is:\" + str(round(bmi,1)))"
      ],
      "metadata": {
        "colab": {
          "base_uri": "https://localhost:8080/"
        },
        "id": "1obaCDOvA8jZ",
        "outputId": "066ef05c-6464-4adb-bb2e-ab4bf3402ecd"
      },
      "execution_count": 14,
      "outputs": [
        {
          "output_type": "stream",
          "name": "stdout",
          "text": [
            "Your BMI is:20.8\n"
          ]
        }
      ]
    },
    {
      "cell_type": "code",
      "source": [
        "# Future value of a specified principal ammount, rate of interest, and a number of years\n",
        "# How much is your $100 worth after 7 years?\n",
        "fv = 100 * 1.1 ** 7\n",
        "print('fv = ', round(fv, 2))\n",
        "# output = 194.87"
      ],
      "metadata": {
        "colab": {
          "base_uri": "https://localhost:8080/"
        },
        "id": "yj3svtVmCP8U",
        "outputId": "00022b11-868e-4eb2-c305-436d3ccdf981"
      },
      "execution_count": 15,
      "outputs": [
        {
          "output_type": "stream",
          "name": "stdout",
          "text": [
            "fv =  194.87\n"
          ]
        }
      ]
    },
    {
      "cell_type": "code",
      "source": [
        "# Future Value\n",
        "pv = 100\n",
        "r = 0.1\n",
        "n = 7\n",
        "fv = pv * ((1 + (r)) ** n)\n",
        "print(round(fv, 2))"
      ],
      "metadata": {
        "colab": {
          "base_uri": "https://localhost:8080/"
        },
        "id": "51qF-s2sCkx_",
        "outputId": "835346b7-ca61-4965-d3c9-f082df162d0d"
      },
      "execution_count": 16,
      "outputs": [
        {
          "output_type": "stream",
          "name": "stdout",
          "text": [
            "194.87\n"
          ]
        }
      ]
    },
    {
      "cell_type": "code",
      "source": [
        "# Future Value\n",
        "amount = 100\n",
        "interest = 10 #10% = 0.01 * 10\n",
        "years = 7\n",
        "future_value = amount * ((1 + (0.01 * interest)) ** years)\n",
        "print(round(future_value, 2))"
      ],
      "metadata": {
        "colab": {
          "base_uri": "https://localhost:8080/"
        },
        "id": "jx75LExOCxIH",
        "outputId": "550b5021-5275-4c77-d24b-11f35b16cf57"
      },
      "execution_count": 17,
      "outputs": [
        {
          "output_type": "stream",
          "name": "stdout",
          "text": [
            "194.87\n"
          ]
        }
      ]
    },
    {
      "cell_type": "code",
      "source": [],
      "metadata": {
        "id": "D1CQSSnjC6dg"
      },
      "execution_count": null,
      "outputs": []
    },
    {
      "cell_type": "markdown",
      "source": [
        "# Data structure"
      ],
      "metadata": {
        "id": "32d0ImUTDQ4w"
      }
    },
    {
      "cell_type": "code",
      "source": [
        "x = [\"apple\", \"banana\", \"cherry\",\"cherry\"] #list\n",
        "print(x,type(x))\n",
        "x = (\"apple\", \"banana\", \"cherry\") #tuple\n",
        "print(x,type(x))\n",
        "x = {\"name\" : \"Tom\", \"age\" : 20, \"class\":\"KTLT\"} #dict\n",
        "print(x,type(x))\n",
        "x = {\"hello\",\"apple\", \"banana\", \"cherry\"} #set\n",
        "print(x,type(x))"
      ],
      "metadata": {
        "colab": {
          "base_uri": "https://localhost:8080/"
        },
        "id": "gDcT1YpwDUjI",
        "outputId": "e4587060-97ba-4596-f15c-e1d0805a8995"
      },
      "execution_count": 18,
      "outputs": [
        {
          "output_type": "stream",
          "name": "stdout",
          "text": [
            "['apple', 'banana', 'cherry', 'cherry'] <class 'list'>\n",
            "('apple', 'banana', 'cherry') <class 'tuple'>\n",
            "{'name': 'Tom', 'age': 20, 'class': 'KTLT'} <class 'dict'>\n",
            "{'hello', 'apple', 'banana', 'cherry'} <class 'set'>\n"
          ]
        }
      ]
    },
    {
      "cell_type": "code",
      "source": [
        "x = [60, 70, 80, 90]\n",
        "print(len(x))\n",
        "print(x[0])\n",
        "print(x[1])\n",
        "print(x[-1])\n",
        "print(x[1:3])\n",
        "print(x[-2:-4:-1])\n",
        "print(x[:-1],x[::-1])"
      ],
      "metadata": {
        "colab": {
          "base_uri": "https://localhost:8080/"
        },
        "id": "tw9kCBOiD74b",
        "outputId": "ae8b1ab1-1153-446a-cc24-41fc21dd47bc"
      },
      "execution_count": 21,
      "outputs": [
        {
          "output_type": "stream",
          "name": "stdout",
          "text": [
            "4\n",
            "60\n",
            "70\n",
            "90\n",
            "[70, 80]\n",
            "[80, 70]\n",
            "[60, 70, 80] [90, 80, 70, 60]\n"
          ]
        }
      ]
    },
    {
      "cell_type": "code",
      "source": [
        "a=[2,3,5]\n",
        "b=[1,2]\n",
        "a.extend(b)\n",
        "a.append(10)\n",
        "print(a)"
      ],
      "metadata": {
        "colab": {
          "base_uri": "https://localhost:8080/"
        },
        "id": "Cg4Ki9ClEti6",
        "outputId": "f2faf31b-6ea8-4ba3-ee8f-c6e5708404be"
      },
      "execution_count": 22,
      "outputs": [
        {
          "output_type": "stream",
          "name": "stdout",
          "text": [
            "[2, 3, 5, 1, 2, 10]\n"
          ]
        }
      ]
    },
    {
      "cell_type": "code",
      "source": [
        "x = (10, 20, 30, 40, 50)\n",
        "print(x[0])\n",
        "print(x[1])\n",
        "print(x[2])\n",
        "print(x[-1])"
      ],
      "metadata": {
        "colab": {
          "base_uri": "https://localhost:8080/"
        },
        "id": "q9-m_gMbEtcr",
        "outputId": "2619b565-8b83-4a52-fede-13bd3984c493"
      },
      "execution_count": 23,
      "outputs": [
        {
          "output_type": "stream",
          "name": "stdout",
          "text": [
            "10\n",
            "20\n",
            "30\n",
            "50\n"
          ]
        }
      ]
    },
    {
      "cell_type": "code",
      "source": [
        "animals = {'cat', 'dog'}\n",
        "print(animals)\n",
        "print('cat' in animals)\n",
        "print('fish' in animals)\n",
        "\n",
        "animals.add('fish')\n",
        "print(animals)\n",
        "\n",
        "print('fish' in animals)\n",
        "print(len(animals))\n",
        "\n",
        "animals.add(\"cat\")\n",
        "print(len(animals))\n",
        "\n",
        "animals.remove('cat')\n",
        "print(animals)\n",
        "\n",
        "print(len(animals))"
      ],
      "metadata": {
        "colab": {
          "base_uri": "https://localhost:8080/"
        },
        "id": "cZ1gwtWmFG2B",
        "outputId": "69977067-33d1-4ac5-9e56-f60b29beaecd"
      },
      "execution_count": 25,
      "outputs": [
        {
          "output_type": "stream",
          "name": "stdout",
          "text": [
            "{'cat', 'dog'}\n",
            "True\n",
            "False\n",
            "{'cat', 'dog', 'fish'}\n",
            "True\n",
            "3\n",
            "3\n",
            "{'dog', 'fish'}\n",
            "2\n"
          ]
        }
      ]
    },
    {
      "cell_type": "code",
      "source": [
        "s= \"Hom nay la thu hai\"\n",
        "print(list(s), list(s))\n",
        "print(set(list(s)),len(set(list(s))))"
      ],
      "metadata": {
        "colab": {
          "base_uri": "https://localhost:8080/"
        },
        "id": "osI26579Fn33",
        "outputId": "170e50d5-08ed-4700-9d34-3c7d67d2ac10"
      },
      "execution_count": 26,
      "outputs": [
        {
          "output_type": "stream",
          "name": "stdout",
          "text": [
            "['H', 'o', 'm', ' ', 'n', 'a', 'y', ' ', 'l', 'a', ' ', 't', 'h', 'u', ' ', 'h', 'a', 'i'] ['H', 'o', 'm', ' ', 'n', 'a', 'y', ' ', 'l', 'a', ' ', 't', 'h', 'u', ' ', 'h', 'a', 'i']\n",
            "{'h', 'y', 'u', 'l', 'm', 'i', 't', 'a', 'o', 'n', 'H', ' '} 12\n"
          ]
        }
      ]
    },
    {
      "cell_type": "code",
      "source": [
        "#dictionary\n",
        "k = { 'EN':'English','FR':'French' }\n",
        "print(k['EN'])"
      ],
      "metadata": {
        "colab": {
          "base_uri": "https://localhost:8080/"
        },
        "id": "DTzj2JmsF7ft",
        "outputId": "339e8858-ea32-4909-806f-b8a7aea16afe"
      },
      "execution_count": 27,
      "outputs": [
        {
          "output_type": "stream",
          "name": "stdout",
          "text": [
            "English\n"
          ]
        }
      ]
    },
    {
      "cell_type": "code",
      "source": [
        "s= \"Hom nay la thu hai\"\n",
        "d_cnt ={}\n",
        "for ci in list(s):\n",
        "  if d_cnt.get(ci)is None:\n",
        "    d_cnt[ci]=1\n",
        "  else:\n",
        "      d_cnt[ci]=d_cnt[ci]+1\n",
        "print(d_cnt)"
      ],
      "metadata": {
        "colab": {
          "base_uri": "https://localhost:8080/"
        },
        "id": "gQSlSEDTGKrS",
        "outputId": "edbf365c-35d7-429f-f490-486b02771af9"
      },
      "execution_count": 30,
      "outputs": [
        {
          "output_type": "stream",
          "name": "stdout",
          "text": [
            "{'H': 1, 'o': 1, 'm': 1, ' ': 4, 'n': 1, 'a': 3, 'y': 1, 'l': 1, 't': 1, 'h': 2, 'u': 1, 'i': 1}\n"
          ]
        }
      ]
    },
    {
      "cell_type": "code",
      "source": [
        "fruits = [\"apple\", \"banana\", \"cherry\"] #lists []\n",
        "print(fruits)\n",
        "colors = (\"red\", \"green\", \"blue\") #tuples ()\n",
        "print(colors)\n",
        "animals = {'cat', 'dog'} #sets {}\n",
        "print(animals)\n",
        "person = {\"name\" : \"Tom\", \"age\" : 20} #dictionaries {}\n",
        "print(person)"
      ],
      "metadata": {
        "colab": {
          "base_uri": "https://localhost:8080/"
        },
        "id": "1wT4PyB8GyRN",
        "outputId": "fe53a315-a33b-4d4e-d2e9-1505d1cd6fe3"
      },
      "execution_count": 33,
      "outputs": [
        {
          "output_type": "stream",
          "name": "stdout",
          "text": [
            "['apple', 'banana', 'cherry']\n",
            "('red', 'green', 'blue')\n",
            "{'cat', 'dog'}\n",
            "{'name': 'Tom', 'age': 20}\n"
          ]
        }
      ]
    },
    {
      "cell_type": "code",
      "source": [
        "import pandas as pd\n",
        "pd.Datarame([person])"
      ],
      "metadata": {
        "colab": {
          "base_uri": "https://localhost:8080/",
          "height": 162
        },
        "id": "0i0VnBcjHBys",
        "outputId": "8e20aab3-0059-4f6e-f071-3efb71b9a2fa"
      },
      "execution_count": 34,
      "outputs": [
        {
          "output_type": "error",
          "ename": "AttributeError",
          "evalue": "module 'pandas' has no attribute 'Datarame'",
          "traceback": [
            "\u001b[0;31m---------------------------------------------------------------------------\u001b[0m",
            "\u001b[0;31mAttributeError\u001b[0m                            Traceback (most recent call last)",
            "\u001b[0;32m/tmp/ipython-input-3781842296.py\u001b[0m in \u001b[0;36m<cell line: 0>\u001b[0;34m()\u001b[0m\n\u001b[1;32m      1\u001b[0m \u001b[0;32mimport\u001b[0m \u001b[0mpandas\u001b[0m \u001b[0;32mas\u001b[0m \u001b[0mpd\u001b[0m\u001b[0;34m\u001b[0m\u001b[0;34m\u001b[0m\u001b[0m\n\u001b[0;32m----> 2\u001b[0;31m \u001b[0mpd\u001b[0m\u001b[0;34m.\u001b[0m\u001b[0mDatarame\u001b[0m\u001b[0;34m(\u001b[0m\u001b[0;34m[\u001b[0m\u001b[0mperson\u001b[0m\u001b[0;34m]\u001b[0m\u001b[0;34m)\u001b[0m\u001b[0;34m\u001b[0m\u001b[0;34m\u001b[0m\u001b[0m\n\u001b[0m",
            "\u001b[0;31mAttributeError\u001b[0m: module 'pandas' has no attribute 'Datarame'"
          ]
        }
      ]
    }
  ]
}